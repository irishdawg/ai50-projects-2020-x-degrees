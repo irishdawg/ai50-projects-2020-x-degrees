{
 "cells": [
  {
   "cell_type": "code",
   "execution_count": 2,
   "id": "cd08f875",
   "metadata": {},
   "outputs": [],
   "source": [
    "import csv\n",
    "import sys"
   ]
  },
  {
   "cell_type": "code",
   "execution_count": 3,
   "id": "40d0b7c5",
   "metadata": {},
   "outputs": [],
   "source": [
    "# Maps names to a set of corresponding person_ids\n",
    "names = {}\n",
    "\n",
    "# Maps person_ids to a dictionary of: name, birth, movies (a set of movie_ids)\n",
    "people = {}\n",
    "\n",
    "# Maps movie_ids to a dictionary of: title, year, stars (a set of person_ids)\n",
    "movies = {}"
   ]
  },
  {
   "cell_type": "code",
   "execution_count": 4,
   "id": "26d6d63b",
   "metadata": {},
   "outputs": [],
   "source": [
    "class Node():\n",
    "    def __init__(self, state, parent):  #, action):\n",
    "        self.state = state\n",
    "        self.parent = parent\n",
    "#        self.action = action"
   ]
  },
  {
   "cell_type": "code",
   "execution_count": 5,
   "id": "a0d91c55",
   "metadata": {},
   "outputs": [],
   "source": [
    "class StackFrontier():\n",
    "    def __init__(self):\n",
    "        self.frontier = []\n",
    "\n",
    "    def add(self, node):\n",
    "        self.frontier.append(node)\n",
    "\n",
    "    def contains_state(self, state):\n",
    "        return any(node.state == state for node in self.frontier)\n",
    "\n",
    "    def empty(self):\n",
    "        return len(self.frontier) == 0\n",
    "\n",
    "    def remove(self):\n",
    "        if self.empty():\n",
    "            raise Exception(\"empty frontier\")\n",
    "        else:\n",
    "            node = self.frontier[-1]\n",
    "            self.frontier = self.frontier[:-1]\n",
    "            return node"
   ]
  },
  {
   "cell_type": "code",
   "execution_count": 6,
   "id": "babf2601",
   "metadata": {},
   "outputs": [],
   "source": [
    "class QueueFrontier(StackFrontier):\n",
    "\n",
    "    def remove(self):\n",
    "        if self.empty():\n",
    "            raise Exception(\"empty frontier\")\n",
    "        else:\n",
    "            node = self.frontier[0]\n",
    "            self.frontier = self.frontier[1:]\n",
    "            return node"
   ]
  },
  {
   "cell_type": "code",
   "execution_count": 7,
   "id": "7b9054fc",
   "metadata": {},
   "outputs": [],
   "source": [
    "def load_data(directory):\n",
    "    \"\"\"\n",
    "    Load data from CSV files into memory.\n",
    "    \"\"\"\n",
    "    # Load people\n",
    "    with open(f\"{directory}/people.csv\", encoding=\"utf-8\") as f:\n",
    "        reader = csv.DictReader(f)\n",
    "        for row in reader:\n",
    "            people[row[\"id\"]] = {\n",
    "                \"name\": row[\"name\"],\n",
    "                \"birth\": row[\"birth\"],\n",
    "                \"movies\": set()\n",
    "            }\n",
    "            if row[\"name\"].lower() not in names:\n",
    "                names[row[\"name\"].lower()] = {row[\"id\"]}\n",
    "            else:\n",
    "                names[row[\"name\"].lower()].add(row[\"id\"])\n",
    "\n",
    "    # Load movies\n",
    "    with open(f\"{directory}/movies.csv\", encoding=\"utf-8\") as f:\n",
    "        reader = csv.DictReader(f)\n",
    "        for row in reader:\n",
    "            movies[row[\"id\"]] = {\n",
    "                \"title\": row[\"title\"],\n",
    "                \"year\": row[\"year\"],\n",
    "                \"stars\": set()\n",
    "            }\n",
    "\n",
    "    # Load stars\n",
    "    with open(f\"{directory}/stars.csv\", encoding=\"utf-8\") as f:\n",
    "        reader = csv.DictReader(f)\n",
    "        for row in reader:\n",
    "            try:\n",
    "                people[row[\"person_id\"]][\"movies\"].add(row[\"movie_id\"])\n",
    "                movies[row[\"movie_id\"]][\"stars\"].add(row[\"person_id\"])\n",
    "            except KeyError:\n",
    "                pass"
   ]
  },
  {
   "cell_type": "code",
   "execution_count": 8,
   "id": "4cd4ea71",
   "metadata": {},
   "outputs": [],
   "source": [
    "def person_id_for_name(name):\n",
    "    \"\"\"\n",
    "    Returns the IMDB id for a person's name,\n",
    "    resolving ambiguities as needed.\n",
    "    \"\"\"\n",
    "    person_ids = list(names.get(name.lower(), set()))\n",
    "    if len(person_ids) == 0:\n",
    "        return None\n",
    "    elif len(person_ids) > 1:\n",
    "        print(f\"Which '{name}'?\")\n",
    "        for person_id in person_ids:\n",
    "            person = people[person_id]\n",
    "            name = person[\"name\"]\n",
    "            birth = person[\"birth\"]\n",
    "            print(f\"ID: {person_id}, Name: {name}, Birth: {birth}\")\n",
    "        try:\n",
    "            person_id = input(\"Intended Person ID: \")\n",
    "            if person_id in person_ids:\n",
    "                return person_id\n",
    "        except ValueError:\n",
    "            pass\n",
    "        return None\n",
    "    else:\n",
    "        return person_ids[0]"
   ]
  },
  {
   "cell_type": "code",
   "execution_count": 9,
   "id": "8e1bd813",
   "metadata": {},
   "outputs": [],
   "source": [
    "def neighbors_for_person(person_id):\n",
    "    \"\"\"\n",
    "    Returns (movie_id, person_id) pairs for people\n",
    "    who starred with a given person.\n",
    "    \"\"\"\n",
    "    movie_ids = people[person_id][\"movies\"]\n",
    "    neighbors = set()\n",
    "    for movie_id in movie_ids:\n",
    "        for person_id in movies[movie_id][\"stars\"]:\n",
    "            neighbors.add((movie_id, person_id))\n",
    "    return neighbors"
   ]
  },
  {
   "cell_type": "code",
   "execution_count": 10,
   "id": "9e5dbd7e",
   "metadata": {},
   "outputs": [],
   "source": [
    "directory = 'small'"
   ]
  },
  {
   "cell_type": "code",
   "execution_count": 11,
   "id": "cb871ff0",
   "metadata": {},
   "outputs": [
    {
     "name": "stdout",
     "output_type": "stream",
     "text": [
      "Loading data...\n",
      "Data loaded.\n"
     ]
    }
   ],
   "source": [
    "print(\"Loading data...\")\n",
    "load_data(directory)\n",
    "print(\"Data loaded.\")"
   ]
  },
  {
   "cell_type": "code",
   "execution_count": 193,
   "id": "3234a39d",
   "metadata": {},
   "outputs": [
    {
     "name": "stdout",
     "output_type": "stream",
     "text": [
      "144\n"
     ]
    }
   ],
   "source": [
    "source = person_id_for_name('cary elwes')\n",
    "print(source)"
   ]
  },
  {
   "cell_type": "code",
   "execution_count": 194,
   "id": "8804dac8",
   "metadata": {},
   "outputs": [
    {
     "name": "stdout",
     "output_type": "stream",
     "text": [
      "193\n"
     ]
    }
   ],
   "source": [
    "target = person_id_for_name('demi moore')\n",
    "print(target)"
   ]
  },
  {
   "cell_type": "code",
   "execution_count": 195,
   "id": "6e34ddd8",
   "metadata": {},
   "outputs": [],
   "source": [
    "movie_ids = people[source][\"movies\"]"
   ]
  },
  {
   "cell_type": "code",
   "execution_count": 196,
   "id": "25f4a552",
   "metadata": {},
   "outputs": [],
   "source": [
    "frontier = StackFrontier()"
   ]
  },
  {
   "cell_type": "code",
   "execution_count": 197,
   "id": "8a1cf033",
   "metadata": {},
   "outputs": [],
   "source": [
    "explored = set()"
   ]
  },
  {
   "cell_type": "code",
   "execution_count": 198,
   "id": "2076d06c",
   "metadata": {},
   "outputs": [
    {
     "name": "stdout",
     "output_type": "stream",
     "text": [
      "Node: ('109830', '705')\n"
     ]
    }
   ],
   "source": [
    "# load starting nodes\n",
    "for movie in movie_ids:\n",
    "    start_state = (movie, source)\n",
    "    start_node = Node(state=start_state, parent=None)\n",
    "    frontier.add(start_node)"
   ]
  },
  {
   "cell_type": "code",
   "execution_count": 199,
   "id": "e895510a",
   "metadata": {},
   "outputs": [
    {
     "name": "stdout",
     "output_type": "stream",
     "text": [
      "match found\n",
      "('104257', '193')\n"
     ]
    }
   ],
   "source": [
    "while True:\n",
    "\n",
    "    # If nothing left in frontier, then no path\n",
    "    if frontier.empty():\n",
    "        raise Exception(\"no solution\")\n",
    "\n",
    "    # Choose a node from the frontier\n",
    "    node = frontier.remove()\n",
    "    num_explored += 1\n",
    "    \n",
    "    # check for a match\n",
    "    if node.state[1] == target:\n",
    "        print(\"match found\")\n",
    "        print(node.state)\n",
    "        solution = []\n",
    "        while node.parent is not None:\n",
    "            solution.append(node.state)\n",
    "            node = node.parent\n",
    "#        solution.append(node.state)\n",
    "#        solution.reverse\n",
    "        break\n",
    "\n",
    "    # Mark node as explored\n",
    "    explored.add(node.state)\n",
    "\n",
    "    # Add neighbors to frontier\n",
    "    for state in neighbors_for_person(node.state[1]):\n",
    "        if not frontier.contains_state(state) and state not in explored:\n",
    "            child = Node(state=state, parent=node)\n",
    "            frontier.add(child)\n"
   ]
  },
  {
   "cell_type": "code",
   "execution_count": 200,
   "id": "6742a3c6",
   "metadata": {},
   "outputs": [
    {
     "name": "stdout",
     "output_type": "stream",
     "text": [
      "4 degrees of separation.\n",
      "1: Demi Moore and Kevin Bacon starred in A Few Good Men\n",
      "2: Kevin Bacon and Tom Hanks starred in Apollo 13\n",
      "3: Tom Hanks and Robin Wright starred in Forrest Gump\n",
      "4: Robin Wright and Cary Elwes starred in The Princess Bride\n"
     ]
    }
   ],
   "source": [
    "if solution is None:\n",
    "    print(\"Not connected.\")\n",
    "else:\n",
    "    degrees = len(solution)\n",
    "    print(f\"{degrees} degrees of separation.\")\n",
    "    solution.append((None, source))\n",
    "    for i in range(degrees):\n",
    "        person1 = people[solution[i][1]][\"name\"]\n",
    "        person2 = people[solution[i + 1][1]][\"name\"]\n",
    "        movie = movies[solution[i][0]][\"title\"]\n",
    "        print(f\"{i + 1}: {person1} and {person2} starred in {movie}\")"
   ]
  },
  {
   "cell_type": "code",
   "execution_count": null,
   "id": "4dbc1b1f",
   "metadata": {},
   "outputs": [],
   "source": []
  }
 ],
 "metadata": {
  "kernelspec": {
   "display_name": "Python 3 (ipykernel)",
   "language": "python",
   "name": "python3"
  },
  "language_info": {
   "codemirror_mode": {
    "name": "ipython",
    "version": 3
   },
   "file_extension": ".py",
   "mimetype": "text/x-python",
   "name": "python",
   "nbconvert_exporter": "python",
   "pygments_lexer": "ipython3",
   "version": "3.9.7"
  }
 },
 "nbformat": 4,
 "nbformat_minor": 5
}
